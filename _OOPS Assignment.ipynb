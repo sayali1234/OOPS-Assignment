{
 "cells": [
  {
   "cell_type": "code",
   "execution_count": null,
   "id": "c7a67ae8-796b-4e3e-b2d4-c2d077be0b19",
   "metadata": {},
   "outputs": [],
   "source": [
    "Q1) Explain Class and Object with respect to Object-Oriented Programming. Give a suitable example.\n",
    "Ans:Class is a blueprint or template for creating objects in Object-Oriented Programming (OOP). It defines the properties (data members) and behaviors (methods) \n",
    "    of the objects that will be created from the class.\n",
    "    An object is an instance of a class, created at runtime. Objects are variables of the class type and contain the actual data. Objects can access the properties\n",
    "    and behaviors defined in their class.\n",
    "    Example: Consider a class called \"Car\" which has properties such as make, model, and year, and behaviors such as start, stop, and accelerate. Each car object\n",
    "    created from the Car class would have its own unique make, model, and year, but would share the same behaviors defined in the Car class."
   ]
  },
  {
   "cell_type": "code",
   "execution_count": 1,
   "id": "67af35f2-a76a-4ab6-ac22-2111beb8b0e7",
   "metadata": {},
   "outputs": [
    {
     "name": "stdout",
     "output_type": "stream",
     "text": [
      "Toyota\n",
      "Camry\n",
      "2022\n",
      "Car started\n",
      "Car accelerated\n",
      "Car stopped\n"
     ]
    }
   ],
   "source": [
    "class Car:\n",
    "    def __init__(self, make, model, year):\n",
    "        self.make = make\n",
    "        self.model = model\n",
    "        self.year = year\n",
    "\n",
    "    def start(self):\n",
    "        print(\"Car started\")\n",
    "\n",
    "    def stop(self):\n",
    "        print(\"Car stopped\")\n",
    "\n",
    "    def accelerate(self):\n",
    "        print(\"Car accelerated\")\n",
    "\n",
    "        \n",
    "my_car = Car(\"Toyota\", \"Camry\", 2022)\n",
    "\n",
    "print(my_car.make) # Toyota\n",
    "print(my_car.model) # Camry\n",
    "print(my_car.year) # 2022\n",
    "\n",
    "my_car.start() # Car started\n",
    "my_car.accelerate() # Car accelerated\n",
    "my_car.stop() # Car stopped"
   ]
  },
  {
   "cell_type": "code",
   "execution_count": null,
   "id": "0f8bdb55-d471-4bb3-aa7d-9230a68439b4",
   "metadata": {},
   "outputs": [],
   "source": [
    "Q2) Name the four pillars of OOPs.\n",
    "Ans:The four pillars of OOPs (Object-Oriented Programming) are:\n",
    "    1)Abstraction 2)Encapsulation 3)Inheritance 4)Polymorphism"
   ]
  },
  {
   "cell_type": "code",
   "execution_count": null,
   "id": "45cf1502-2aae-4c6e-864b-df4826b9ac28",
   "metadata": {},
   "outputs": [],
   "source": [
    "Q3) Explain why the __init__() function is used. Give a suitable example.\n",
    "Ans:The init function is a special method in Python classes, and is used as a constructor for the class. It is executed automatically when an object of the class\n",
    "    is created, and its purpose is to initialize the attributes of the class.\n",
    "    Example:"
   ]
  },
  {
   "cell_type": "code",
   "execution_count": 2,
   "id": "d149e14f-7aac-42f8-8be2-b51b0f4c7293",
   "metadata": {},
   "outputs": [
    {
     "name": "stdout",
     "output_type": "stream",
     "text": [
      "Toyota\n",
      "Camry\n",
      "2020\n"
     ]
    }
   ],
   "source": [
    "class Car:\n",
    "    def __init__(self, make, model, year):\n",
    "        self.make = make\n",
    "        self.model = model\n",
    "        self.year = year\n",
    "\n",
    "car1 = Car(\"Toyota\", \"Camry\", 2020)\n",
    "\n",
    "print(car1.make) # Toyota\n",
    "print(car1.model) # Camry\n",
    "print(car1.year) # 2020"
   ]
  },
  {
   "cell_type": "code",
   "execution_count": null,
   "id": "38d9d3cc-9ec3-43d7-87fa-df9d2746ed3d",
   "metadata": {},
   "outputs": [],
   "source": [
    "Q4) Why self is used in OOPs?\n",
    "Ans:In Object-Oriented Programming (OOP), self is a reference to the instance of the object that is calling the method. It is used as the first argument in the\n",
    "    method definition and it is used to access the attributes and methods of the class.\n",
    "    The self keyword allows each instance of a class to have its own separate and distinct state, meaning that each object created from the class can have its own\n",
    "    set of attributes and methods with different values.\n",
    "    For example:"
   ]
  },
  {
   "cell_type": "code",
   "execution_count": 3,
   "id": "d7da0bf8-5f22-4596-a0a1-2ad847e71014",
   "metadata": {},
   "outputs": [
    {
     "name": "stdout",
     "output_type": "stream",
     "text": [
      "Make: Toyota\n",
      "Model: Camry\n",
      "Year: 2020\n",
      "Make: Honda\n",
      "Model: Accord\n",
      "Year: 2021\n"
     ]
    }
   ],
   "source": [
    "class Car:\n",
    "    def __init__(self, make, model, year):\n",
    "        self.make = make\n",
    "        self.model = model\n",
    "        self.year = year\n",
    "        \n",
    "    def display_car_info(self):\n",
    "        print(f\"Make: {self.make}\")\n",
    "        print(f\"Model: {self.model}\")\n",
    "        print(f\"Year: {self.year}\")\n",
    "\n",
    "car1 = Car(\"Toyota\", \"Camry\", 2020)\n",
    "car2 = Car(\"Honda\", \"Accord\", 2021)\n",
    "\n",
    "car1.display_car_info()\n",
    "# Output:\n",
    "# Make: Toyota\n",
    "# Model: Camry\n",
    "# Year: 2020\n",
    "\n",
    "car2.display_car_info()\n",
    "# Output:\n",
    "# Make: Honda\n",
    "# Model: Accord\n",
    "# Year: 2021"
   ]
  },
  {
   "cell_type": "code",
   "execution_count": null,
   "id": "fd776061-e708-4da5-8252-2f9a304e9b52",
   "metadata": {},
   "outputs": [],
   "source": [
    "Q5) What is inheritance? Give an example for each type of inheritance.\n",
    "Ans:Inheritance is a mechanism in Object-Oriented Programming (OOP) that allows a new class to inherit properties and methods from an existing class. The existing\n",
    "    class is called the parent class or base class, and the new class is called the child class or derived class. Inheritance allows for code reusability and\n",
    "    makes it easier to create and maintain the code.\n",
    "    Types of Inheritance depend upon the number of child and parent classes involved. There are four types of inheritance in Python:\n",
    "    1)SINGLE INHERITANCE:\n",
    "    Single inheritance enables a derived class to inherit properties from a single parent class, thus enabling code reusability and the addition of new features \n",
    "    to existing code."
   ]
  },
  {
   "cell_type": "code",
   "execution_count": 4,
   "id": "8f718ccf-427d-4071-834c-16d916fb42a5",
   "metadata": {},
   "outputs": [
    {
     "name": "stdout",
     "output_type": "stream",
     "text": [
      "This function is in parent class.\n",
      "This function is in child class.\n"
     ]
    }
   ],
   "source": [
    "# Python program to demonstrate\n",
    "# single inheritance\n",
    " \n",
    "# Base class\n",
    "class Parent:\n",
    "    def func1(self):\n",
    "        print(\"This function is in parent class.\")\n",
    " \n",
    "#Derived class\n",
    "class Child(Parent):\n",
    "    def func2(self):\n",
    "        print(\"This function is in child class.\")\n",
    " \n",
    " \n",
    "# Driver's code\n",
    "object = Child()\n",
    "object.func1()\n",
    "object.func2()"
   ]
  },
  {
   "cell_type": "code",
   "execution_count": null,
   "id": "0fe33113-c6dd-4311-bd6b-f188fcd99488",
   "metadata": {},
   "outputs": [],
   "source": [
    "2)MULTIPLE INHERITANCE:\n",
    "When a class can be derived from more than one base class this type of inheritance is called multiple inheritances. In multiple inheritances, all the features of\n",
    "the base classes are inherited into the derived class."
   ]
  },
  {
   "cell_type": "code",
   "execution_count": 5,
   "id": "fd80985c-d55e-4d8a-aea9-6d54fdad1bcb",
   "metadata": {},
   "outputs": [
    {
     "name": "stdout",
     "output_type": "stream",
     "text": [
      "Father : RAM\n",
      "Mother : SITA\n"
     ]
    }
   ],
   "source": [
    "# Python program to demonstrate\n",
    "# multiple inheritance\n",
    " \n",
    "# Base class1\n",
    "class Mother:\n",
    "    mothername = \"\"\n",
    " \n",
    "    def mother(self):\n",
    "        print(self.mothername)\n",
    " \n",
    "# Base class2\n",
    " \n",
    "class Father:\n",
    "    fathername = \"\"\n",
    " \n",
    "    def father(self):\n",
    "        print(self.fathername)\n",
    " \n",
    "# Derived class\n",
    " \n",
    "class Son(Mother, Father):\n",
    "    def parents(self):\n",
    "        print(\"Father :\", self.fathername)\n",
    "        print(\"Mother :\", self.mothername)\n",
    " \n",
    " \n",
    "# Driver's code\n",
    "s1 = Son()\n",
    "s1.fathername = \"RAM\"\n",
    "s1.mothername = \"SITA\"\n",
    "s1.parents()"
   ]
  },
  {
   "cell_type": "code",
   "execution_count": null,
   "id": "35688b5b-6baf-4392-b78c-0e6af211cf2e",
   "metadata": {},
   "outputs": [],
   "source": [
    "3)MULTILEVEL INHERITANCE :\n",
    "In multilevel inheritance, features of the base class and the derived class are further inherited into the new derived class. This is similar to a relationship\n",
    "representing a child and a grandfather."
   ]
  },
  {
   "cell_type": "code",
   "execution_count": 6,
   "id": "28dc8bcf-a60a-4d18-8baa-2e1a026846f0",
   "metadata": {},
   "outputs": [
    {
     "name": "stdout",
     "output_type": "stream",
     "text": [
      "Lal mani\n",
      "Grandfather name : Lal mani\n",
      "Father name : Rampal\n",
      "Son name : Prince\n"
     ]
    }
   ],
   "source": [
    "# Python program to demonstrate\n",
    "# multilevel inheritance\n",
    " \n",
    "# Base class\n",
    " \n",
    "class Grandfather:\n",
    " \n",
    "    def __init__(self, grandfathername):\n",
    "        self.grandfathername = grandfathername\n",
    " \n",
    "# Intermediate class\n",
    " \n",
    "class Father(Grandfather):\n",
    "    def __init__(self, fathername, grandfathername):\n",
    "        self.fathername = fathername\n",
    " \n",
    "        # invoking constructor of Grandfather class\n",
    "        Grandfather.__init__(self, grandfathername)\n",
    " \n",
    "# Derived class\n",
    " \n",
    "class Son(Father):\n",
    "    def __init__(self, sonname, fathername, grandfathername):\n",
    "        self.sonname = sonname\n",
    " \n",
    "        # invoking constructor of Father class\n",
    "        Father.__init__(self, fathername, grandfathername)\n",
    " \n",
    "    def print_name(self):\n",
    "        print('Grandfather name :', self.grandfathername)\n",
    "        print(\"Father name :\", self.fathername)\n",
    "        print(\"Son name :\", self.sonname)\n",
    " \n",
    " \n",
    "#  Driver code\n",
    "s1 = Son('Prince', 'Rampal', 'Lal mani')\n",
    "print(s1.grandfathername)\n",
    "s1.print_name()"
   ]
  },
  {
   "cell_type": "code",
   "execution_count": null,
   "id": "9bc1fb11-1c79-483d-b036-f58d0be62ab0",
   "metadata": {},
   "outputs": [],
   "source": [
    "4)HIERARCHICAL INHERITANCE:\n",
    "When more than one derived class are created from a single base this type of inheritance is called hierarchical inheritance. In this program, we have a parent \n",
    "(base) class and two child (derived) classes."
   ]
  },
  {
   "cell_type": "code",
   "execution_count": 7,
   "id": "57bc7e78-901e-40ae-be68-9f275abfe829",
   "metadata": {},
   "outputs": [
    {
     "name": "stdout",
     "output_type": "stream",
     "text": [
      "This function is in parent class.\n",
      "This function is in child 1.\n",
      "This function is in parent class.\n",
      "This function is in child 2.\n"
     ]
    }
   ],
   "source": [
    "# Python program to demonstrate\n",
    "# Hierarchical inheritance\n",
    " \n",
    "    \n",
    "# Base class\n",
    "class Parent:\n",
    "    def func1(self):\n",
    "        print(\"This function is in parent class.\")\n",
    "\n",
    "        \n",
    "# Derived class1\n",
    " \n",
    "class Child1(Parent):\n",
    "    def func2(self):\n",
    "        print(\"This function is in child 1.\")\n",
    "\n",
    "        \n",
    "# Derivied class2\n",
    " \n",
    "class Child2(Parent):\n",
    "    def func3(self):\n",
    "        print(\"This function is in child 2.\")\n",
    " \n",
    " \n",
    "# Driver's code\n",
    "object1 = Child1()\n",
    "object2 = Child2()\n",
    "object1.func1()\n",
    "object1.func2()\n",
    "object2.func1()\n",
    "object2.func3()"
   ]
  },
  {
   "cell_type": "code",
   "execution_count": null,
   "id": "d4a941f6-7230-47a6-a112-6b05a4b5e346",
   "metadata": {},
   "outputs": [],
   "source": [
    "5)HYBRID INHERITANCE:\n",
    "Inheritance consisting of multiple types of inheritance is called hybrid inheritance."
   ]
  },
  {
   "cell_type": "code",
   "execution_count": 8,
   "id": "a729c10c-b4c8-4aee-b03d-764da8d88793",
   "metadata": {},
   "outputs": [
    {
     "name": "stdout",
     "output_type": "stream",
     "text": [
      "This function is in school.\n",
      "This function is in student 1. \n"
     ]
    }
   ],
   "source": [
    "# Python program to demonstrate\n",
    "# hybrid inheritance\n",
    " \n",
    "class School:\n",
    "    def func1(self):\n",
    "        print(\"This function is in school.\")\n",
    " \n",
    " \n",
    "class Student1(School):\n",
    "    def func2(self):\n",
    "        print(\"This function is in student 1. \")\n",
    " \n",
    " \n",
    "class Student2(School):\n",
    "    def func3(self):\n",
    "        print(\"This function is in student 2.\")\n",
    " \n",
    " \n",
    "class Student3(Student1, School):\n",
    "    def func4(self):\n",
    "        print(\"This function is in student 3.\")\n",
    " \n",
    " \n",
    "# Driver's code\n",
    "object = Student3()\n",
    "object.func1()\n",
    "object.func2()"
   ]
  }
 ],
 "metadata": {
  "kernelspec": {
   "display_name": "Python 3 (ipykernel)",
   "language": "python",
   "name": "python3"
  },
  "language_info": {
   "codemirror_mode": {
    "name": "ipython",
    "version": 3
   },
   "file_extension": ".py",
   "mimetype": "text/x-python",
   "name": "python",
   "nbconvert_exporter": "python",
   "pygments_lexer": "ipython3",
   "version": "3.10.8"
  }
 },
 "nbformat": 4,
 "nbformat_minor": 5
}
